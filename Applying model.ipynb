{
 "cells": [
  {
   "cell_type": "code",
   "execution_count": 11,
   "metadata": {},
   "outputs": [],
   "source": [
    "import pandas as pd\n",
    "import numpy as np\n",
    "import matplotlib.pyplot as plt\n",
    "%matplotlib inline\n",
    "import seaborn as sns"
   ]
  },
  {
   "cell_type": "code",
   "execution_count": 3,
   "metadata": {},
   "outputs": [
    {
     "data": {
      "text/html": [
       "<div>\n",
       "<style scoped>\n",
       "    .dataframe tbody tr th:only-of-type {\n",
       "        vertical-align: middle;\n",
       "    }\n",
       "\n",
       "    .dataframe tbody tr th {\n",
       "        vertical-align: top;\n",
       "    }\n",
       "\n",
       "    .dataframe thead th {\n",
       "        text-align: right;\n",
       "    }\n",
       "</style>\n",
       "<table border=\"1\" class=\"dataframe\">\n",
       "  <thead>\n",
       "    <tr style=\"text-align: right;\">\n",
       "      <th></th>\n",
       "      <th>index</th>\n",
       "      <th>City</th>\n",
       "      <th>Date</th>\n",
       "      <th>PM2.5</th>\n",
       "      <th>NO</th>\n",
       "      <th>NO2</th>\n",
       "      <th>CO</th>\n",
       "      <th>SO2</th>\n",
       "      <th>O3</th>\n",
       "      <th>AQI</th>\n",
       "    </tr>\n",
       "  </thead>\n",
       "  <tbody>\n",
       "    <tr>\n",
       "      <th>0</th>\n",
       "      <td>28</td>\n",
       "      <td>Ahmedabad</td>\n",
       "      <td>2015-01-29</td>\n",
       "      <td>83.13</td>\n",
       "      <td>6.93</td>\n",
       "      <td>28.71</td>\n",
       "      <td>6.93</td>\n",
       "      <td>49.52</td>\n",
       "      <td>59.76</td>\n",
       "      <td>209.0</td>\n",
       "    </tr>\n",
       "    <tr>\n",
       "      <th>1</th>\n",
       "      <td>29</td>\n",
       "      <td>Ahmedabad</td>\n",
       "      <td>2015-01-30</td>\n",
       "      <td>79.84</td>\n",
       "      <td>13.85</td>\n",
       "      <td>28.68</td>\n",
       "      <td>13.85</td>\n",
       "      <td>48.49</td>\n",
       "      <td>97.07</td>\n",
       "      <td>328.0</td>\n",
       "    </tr>\n",
       "    <tr>\n",
       "      <th>2</th>\n",
       "      <td>30</td>\n",
       "      <td>Ahmedabad</td>\n",
       "      <td>2015-01-31</td>\n",
       "      <td>94.52</td>\n",
       "      <td>24.39</td>\n",
       "      <td>32.66</td>\n",
       "      <td>24.39</td>\n",
       "      <td>67.39</td>\n",
       "      <td>111.33</td>\n",
       "      <td>514.0</td>\n",
       "    </tr>\n",
       "    <tr>\n",
       "      <th>3</th>\n",
       "      <td>31</td>\n",
       "      <td>Ahmedabad</td>\n",
       "      <td>2015-02-01</td>\n",
       "      <td>135.99</td>\n",
       "      <td>43.48</td>\n",
       "      <td>42.08</td>\n",
       "      <td>43.48</td>\n",
       "      <td>75.23</td>\n",
       "      <td>102.70</td>\n",
       "      <td>782.0</td>\n",
       "    </tr>\n",
       "    <tr>\n",
       "      <th>4</th>\n",
       "      <td>32</td>\n",
       "      <td>Ahmedabad</td>\n",
       "      <td>2015-02-02</td>\n",
       "      <td>178.33</td>\n",
       "      <td>54.56</td>\n",
       "      <td>35.31</td>\n",
       "      <td>54.56</td>\n",
       "      <td>55.04</td>\n",
       "      <td>107.38</td>\n",
       "      <td>914.0</td>\n",
       "    </tr>\n",
       "  </tbody>\n",
       "</table>\n",
       "</div>"
      ],
      "text/plain": [
       "   index       City        Date   PM2.5     NO    NO2     CO    SO2      O3  \\\n",
       "0     28  Ahmedabad  2015-01-29   83.13   6.93  28.71   6.93  49.52   59.76   \n",
       "1     29  Ahmedabad  2015-01-30   79.84  13.85  28.68  13.85  48.49   97.07   \n",
       "2     30  Ahmedabad  2015-01-31   94.52  24.39  32.66  24.39  67.39  111.33   \n",
       "3     31  Ahmedabad  2015-02-01  135.99  43.48  42.08  43.48  75.23  102.70   \n",
       "4     32  Ahmedabad  2015-02-02  178.33  54.56  35.31  54.56  55.04  107.38   \n",
       "\n",
       "     AQI  \n",
       "0  209.0  \n",
       "1  328.0  \n",
       "2  514.0  \n",
       "3  782.0  \n",
       "4  914.0  "
      ]
     },
     "execution_count": 3,
     "metadata": {},
     "output_type": "execute_result"
    }
   ],
   "source": [
    "df=pd.read_csv(\"Clean_data.csv\")\n",
    "df.head()"
   ]
  },
  {
   "cell_type": "code",
   "execution_count": 4,
   "metadata": {},
   "outputs": [],
   "source": [
    "x=df.iloc[:,[3,4,5,6,7,8]]\n",
    "y=df.iloc[:,9]"
   ]
  },
  {
   "cell_type": "code",
   "execution_count": 5,
   "metadata": {},
   "outputs": [],
   "source": [
    "from sklearn.model_selection import train_test_split\n",
    "x_train,x_test,y_train,y_test=train_test_split(x,y,test_size=0.25,random_state=0)"
   ]
  },
  {
   "cell_type": "code",
   "execution_count": 6,
   "metadata": {},
   "outputs": [
    {
     "data": {
      "text/plain": [
       "array([272.49811047, 355.40731262, 512.57898412, ...,  82.22724326,\n",
       "        75.39195333,  62.1934426 ])"
      ]
     },
     "execution_count": 6,
     "metadata": {},
     "output_type": "execute_result"
    }
   ],
   "source": [
    "from sklearn.linear_model import LinearRegression\n",
    "classifier=LinearRegression()\n",
    "classifier.fit(x, y)\n",
    "y_pred=classifier.predict(x)\n",
    "y_pred"
   ]
  },
  {
   "cell_type": "code",
   "execution_count": 7,
   "metadata": {},
   "outputs": [
    {
     "name": "stdout",
     "output_type": "stream",
     "text": [
      "[ 1.23694683  0.21405652  0.33615669 10.83727804  0.8902396   0.30636702]\n"
     ]
    }
   ],
   "source": [
    "print(classifier.coef_)"
   ]
  },
  {
   "cell_type": "code",
   "execution_count": 15,
   "metadata": {},
   "outputs": [],
   "source": [
    "pred=pd.DataFrame(y_pred)\n",
    "#sub_df=pd.read_csv('sample_submission.csv')\n",
    "datasets=pd.concat([df['AQI'],pred],axis=1)\n",
    "datasets.columns=['Actual AQI','AQI predicted']\n",
    "datasets.to_csv('FInal_data.csv',index=False)"
   ]
  },
  {
   "cell_type": "code",
   "execution_count": 16,
   "metadata": {},
   "outputs": [
    {
     "data": {
      "text/html": [
       "<div>\n",
       "<style scoped>\n",
       "    .dataframe tbody tr th:only-of-type {\n",
       "        vertical-align: middle;\n",
       "    }\n",
       "\n",
       "    .dataframe tbody tr th {\n",
       "        vertical-align: top;\n",
       "    }\n",
       "\n",
       "    .dataframe thead th {\n",
       "        text-align: right;\n",
       "    }\n",
       "</style>\n",
       "<table border=\"1\" class=\"dataframe\">\n",
       "  <thead>\n",
       "    <tr style=\"text-align: right;\">\n",
       "      <th></th>\n",
       "      <th>Actual AQI</th>\n",
       "      <th>AQI predicted</th>\n",
       "    </tr>\n",
       "  </thead>\n",
       "  <tbody>\n",
       "    <tr>\n",
       "      <th>0</th>\n",
       "      <td>209.0</td>\n",
       "      <td>272.498110</td>\n",
       "    </tr>\n",
       "    <tr>\n",
       "      <th>1</th>\n",
       "      <td>328.0</td>\n",
       "      <td>355.407313</td>\n",
       "    </tr>\n",
       "    <tr>\n",
       "      <th>2</th>\n",
       "      <td>514.0</td>\n",
       "      <td>512.578984</td>\n",
       "    </tr>\n",
       "    <tr>\n",
       "      <th>3</th>\n",
       "      <td>782.0</td>\n",
       "      <td>782.347273</td>\n",
       "    </tr>\n",
       "    <tr>\n",
       "      <th>4</th>\n",
       "      <td>914.0</td>\n",
       "      <td>938.352468</td>\n",
       "    </tr>\n",
       "    <tr>\n",
       "      <th>...</th>\n",
       "      <td>...</td>\n",
       "      <td>...</td>\n",
       "    </tr>\n",
       "    <tr>\n",
       "      <th>24692</th>\n",
       "      <td>41.0</td>\n",
       "      <td>69.531158</td>\n",
       "    </tr>\n",
       "    <tr>\n",
       "      <th>24693</th>\n",
       "      <td>70.0</td>\n",
       "      <td>86.882970</td>\n",
       "    </tr>\n",
       "    <tr>\n",
       "      <th>24694</th>\n",
       "      <td>68.0</td>\n",
       "      <td>82.227243</td>\n",
       "    </tr>\n",
       "    <tr>\n",
       "      <th>24695</th>\n",
       "      <td>54.0</td>\n",
       "      <td>75.391953</td>\n",
       "    </tr>\n",
       "    <tr>\n",
       "      <th>24696</th>\n",
       "      <td>50.0</td>\n",
       "      <td>62.193443</td>\n",
       "    </tr>\n",
       "  </tbody>\n",
       "</table>\n",
       "<p>24697 rows × 2 columns</p>\n",
       "</div>"
      ],
      "text/plain": [
       "       Actual AQI  AQI predicted\n",
       "0           209.0     272.498110\n",
       "1           328.0     355.407313\n",
       "2           514.0     512.578984\n",
       "3           782.0     782.347273\n",
       "4           914.0     938.352468\n",
       "...           ...            ...\n",
       "24692        41.0      69.531158\n",
       "24693        70.0      86.882970\n",
       "24694        68.0      82.227243\n",
       "24695        54.0      75.391953\n",
       "24696        50.0      62.193443\n",
       "\n",
       "[24697 rows x 2 columns]"
      ]
     },
     "execution_count": 16,
     "metadata": {},
     "output_type": "execute_result"
    }
   ],
   "source": [
    "datasets"
   ]
  },
  {
   "cell_type": "code",
   "execution_count": 12,
   "metadata": {},
   "outputs": [
    {
     "data": {
      "text/plain": [
       "<matplotlib.axes._subplots.AxesSubplot at 0x2722464f4c8>"
      ]
     },
     "execution_count": 12,
     "metadata": {},
     "output_type": "execute_result"
    },
    {
     "data": {
      "image/png": "[encoded data removed]",
      "text/plain": [
       "<Figure size 432x288 with 1 Axes>"
      ]
     },
     "metadata": {
      "needs_background": "light"
     },
     "output_type": "display_data"
    }
   ],
   "source": [
    "ax1 = sns.distplot(y, hist=False, color=\"r\", label=\"Actual Value\")\n",
    "sns.distplot(y_pred, hist=False, color=\"b\", label=\"Fitted Values\" , ax=ax1)"
   ]
  },
  {
   "cell_type": "code",
   "execution_count": null,
   "metadata": {},
   "outputs": [],
   "source": []
  }
 ],
 "metadata": {
  "kernelspec": {
   "display_name": "Python 3",
   "language": "python",
   "name": "python3"
  },
  "language_info": {
   "codemirror_mode": {
    "name": "ipython",
    "version": 3
   },
   "file_extension": ".py",
   "mimetype": "text/x-python",
   "name": "python",
   "nbconvert_exporter": "python",
   "pygments_lexer": "ipython3",
   "version": "3.7.6"
  }
 },
 "nbformat": 4,
 "nbformat_minor": 4
}
